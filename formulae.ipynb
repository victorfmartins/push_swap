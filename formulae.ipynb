{
 "cells": [
  {
   "cell_type": "code",
   "execution_count": 1,
   "metadata": {},
   "outputs": [],
   "source": [
    "import numpy as np\n",
    "import matplotlib.pyplot as plt\n",
    "\n",
    "#@title Plotting Functions\n",
    "\n",
    "def plot_observed_vs_predicted(x, y, y_hat, theta_hat):\n",
    "  \"\"\" Plot observed vs predicted data\n",
    "\n",
    "  Args:\n",
    "    x (ndarray): observed x values\n",
    "    y (ndarray): observed y values\n",
    "    y_hat (ndarray): predicted y values\n",
    "    theta_hat (ndarray):\n",
    "  \"\"\"\n",
    "  fig, ax = plt.subplots()\n",
    "  ax.scatter(x, y, label='Observed')  # our data scatter plot\n",
    "  ax.plot(x, y_hat, color='r', label='Fit')  # our estimated model\n",
    "  # plot residuals\n",
    "  ymin = np.minimum(y, y_hat)\n",
    "  ymax = np.maximum(y, y_hat)\n",
    "  ax.vlines(x, ymin, ymax, 'g', alpha=0.5, label='Residuals')\n",
    "  ax.set(\n",
    "      title=fr\"$\\hat{{\\theta}}$ = {theta_hat:0.2f}, MSE = {np.mean((y - y_hat)**2):.2f}\",\n",
    "      xlabel='x',\n",
    "      ylabel='y'\n",
    "  )\n",
    "  ax.legend()"
   ]
  },
  {
   "cell_type": "code",
   "execution_count": 4,
   "metadata": {},
   "outputs": [],
   "source": [
    "def get_exponent(pts_qtt, batch_size):\n",
    "\treturn (np.log(pts_qtt/(batch_size * 2)) / np.log(2))\n",
    "\n",
    "def get_operation_count(pts_qtt, batch_size):\n",
    "\tn = get_exponent(pts_qtt, batch_size)\n",
    "\treturn (pow(2, n) * (B[batch_size - 2] + (n+1) * T[batch_size - 2])) + 1 * pts_qtt\n",
    "\n",
    "def solve(pts_qtt):\n",
    "\tsol = list()\n",
    "\tfor batch_size in [2, 3, 4, 5]:\n",
    "\t\tsol.append(get_operation_count(pts_qtt, batch_size))\n",
    "\treturn sol"
   ]
  },
  {
   "cell_type": "code",
   "execution_count": 5,
   "metadata": {},
   "outputs": [
    {
     "name": "stdout",
     "output_type": "stream",
     "text": [
      "#operations for stack of size 100: [971.5784284662085, 942.1673866913685, 946.5784284662093, 968.2892142331045]\n",
      "#operations for stack of size 500: [6599.33821349657, 6452.283004622365, 6474.338213496569, 6582.892142331041]\n"
     ]
    },
    {
     "data": {
      "image/png": "[encoded data removed]",
      "text/plain": [
       "<Figure size 432x288 with 1 Axes>"
      ]
     },
     "metadata": {
      "needs_background": "light"
     },
     "output_type": "display_data"
    }
   ],
   "source": [
    "B = [1, 5, 12, 22]\n",
    "T = [6, 9, 12, 15]\n",
    "\n",
    "print(f'#operations for stack of size 100: {solve(100)}')\n",
    "print(f'#operations for stack of size 500: {solve(500)}')\n",
    "\n",
    "x = np.arange(2, 6)\n",
    "theta_hat = (x.T @ B) / (x.T @ x)\n",
    "\n",
    "plot_observed_vs_predicted(x, B, x * theta_hat, theta_hat)\n"
   ]
  }
 ],
 "metadata": {
  "kernelspec": {
   "display_name": "Python 3.8.10 64-bit",
   "language": "python",
   "name": "python3"
  },
  "language_info": {
   "codemirror_mode": {
    "name": "ipython",
    "version": 3
   },
   "file_extension": ".py",
   "mimetype": "text/x-python",
   "name": "python",
   "nbconvert_exporter": "python",
   "pygments_lexer": "ipython3",
   "version": "3.8.10"
  },
  "orig_nbformat": 4,
  "vscode": {
   "interpreter": {
    "hash": "916dbcbb3f70747c44a77c7bcd40155683ae19c65e1c03b4aa3499c5328201f1"
   }
  }
 },
 "nbformat": 4,
 "nbformat_minor": 2
}
